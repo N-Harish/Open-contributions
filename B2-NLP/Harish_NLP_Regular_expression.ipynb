{
  "nbformat": 4,
  "nbformat_minor": 0,
  "metadata": {
    "colab": {
      "name": "Harish_NLP_Regular expression.ipynb",
      "provenance": []
    },
    "kernelspec": {
      "name": "python3",
      "display_name": "Python 3"
    },
    "accelerator": "GPU"
  },
  "cells": [
    {
      "cell_type": "code",
      "metadata": {
        "id": "J7V5lYWQiyae",
        "colab_type": "code",
        "colab": {}
      },
      "source": [
        "import re\n",
        "# import regex"
      ],
      "execution_count": 1,
      "outputs": []
    },
    {
      "cell_type": "code",
      "metadata": {
        "id": "B63SIkHfjVFo",
        "colab_type": "code",
        "colab": {}
      },
      "source": [
        "text = \"Python is an interpreted, high-level and general-purpose programming language. Created by Guido van Rossum and first released in 1991\""
      ],
      "execution_count": 2,
      "outputs": []
    },
    {
      "cell_type": "markdown",
      "metadata": {
        "id": "C19gKcJtj35p",
        "colab_type": "text"
      },
      "source": [
        "# RegEx Character Class Demo"
      ]
    },
    {
      "cell_type": "code",
      "metadata": {
        "id": "AMpqesQskKKF",
        "colab_type": "code",
        "colab": {
          "base_uri": "https://localhost:8080/",
          "height": 343
        },
        "outputId": "04718546-a849-459c-ad99-67d7a47d8a52"
      },
      "source": [
        "# Matching all the characters \n",
        "# Returns list of all characters except digits in given text\n",
        "all_char_find = re.findall(r\"[a-zA-z]\",text)\n",
        "print(f\"matches all character except digits in text and returns a list:- \\n {all_char_find} \\n\")\n",
        "\n",
        "# Using \\w matches all the charcters in the string \n",
        "all_word = re.findall(r\"[\\w]\",text)\n",
        "print(f\"matches all character in text and returns a list:- \\n {all_word} \\n\")\n",
        "\n",
        "# Using \\d matches all digits\n",
        "all_digits = re.findall(r\"[\\d]\",text)\n",
        "print(f\"matches all digits and returns a list:- \\n {all_digits} \\n\")\n",
        "\n",
        "# Using [^a-zA-Z] return non alphabet\n",
        "non_alpha = re.findall(r\"[^a-zA-Z]\",text)\n",
        "print(f\" Return list of non-alpha but returns digits \\n {non_alpha} \\n\")\n",
        "\n",
        "# Using \\s matches spaces in text\n",
        "space = re.findall(r\"\\s\",text)\n",
        "print(f\"matches all spaces in text:- \\n {space} \\n\")\n",
        "\n",
        "# Using \\W matches non-character\n",
        "non_char = re.findall(r\"\\W\",text)\n",
        "print(f\"matches non-char:- \\n {non_char} \\n\")"
      ],
      "execution_count": 3,
      "outputs": [
        {
          "output_type": "stream",
          "text": [
            "matches all character except digits in text and returns a list:- \n",
            " ['P', 'y', 't', 'h', 'o', 'n', 'i', 's', 'a', 'n', 'i', 'n', 't', 'e', 'r', 'p', 'r', 'e', 't', 'e', 'd', 'h', 'i', 'g', 'h', 'l', 'e', 'v', 'e', 'l', 'a', 'n', 'd', 'g', 'e', 'n', 'e', 'r', 'a', 'l', 'p', 'u', 'r', 'p', 'o', 's', 'e', 'p', 'r', 'o', 'g', 'r', 'a', 'm', 'm', 'i', 'n', 'g', 'l', 'a', 'n', 'g', 'u', 'a', 'g', 'e', 'C', 'r', 'e', 'a', 't', 'e', 'd', 'b', 'y', 'G', 'u', 'i', 'd', 'o', 'v', 'a', 'n', 'R', 'o', 's', 's', 'u', 'm', 'a', 'n', 'd', 'f', 'i', 'r', 's', 't', 'r', 'e', 'l', 'e', 'a', 's', 'e', 'd', 'i', 'n'] \n",
            "\n",
            "matches all character in text and returns a list:- \n",
            " ['P', 'y', 't', 'h', 'o', 'n', 'i', 's', 'a', 'n', 'i', 'n', 't', 'e', 'r', 'p', 'r', 'e', 't', 'e', 'd', 'h', 'i', 'g', 'h', 'l', 'e', 'v', 'e', 'l', 'a', 'n', 'd', 'g', 'e', 'n', 'e', 'r', 'a', 'l', 'p', 'u', 'r', 'p', 'o', 's', 'e', 'p', 'r', 'o', 'g', 'r', 'a', 'm', 'm', 'i', 'n', 'g', 'l', 'a', 'n', 'g', 'u', 'a', 'g', 'e', 'C', 'r', 'e', 'a', 't', 'e', 'd', 'b', 'y', 'G', 'u', 'i', 'd', 'o', 'v', 'a', 'n', 'R', 'o', 's', 's', 'u', 'm', 'a', 'n', 'd', 'f', 'i', 'r', 's', 't', 'r', 'e', 'l', 'e', 'a', 's', 'e', 'd', 'i', 'n', '1', '9', '9', '1'] \n",
            "\n",
            "matches all digits and returns a list:- \n",
            " ['1', '9', '9', '1'] \n",
            "\n",
            " Return list of non-alpha but returns digits \n",
            " [' ', ' ', ' ', ',', ' ', '-', ' ', ' ', '-', ' ', ' ', '.', ' ', ' ', ' ', ' ', ' ', ' ', ' ', ' ', ' ', ' ', '1', '9', '9', '1'] \n",
            "\n",
            "matches all spaces in text:- \n",
            " [' ', ' ', ' ', ' ', ' ', ' ', ' ', ' ', ' ', ' ', ' ', ' ', ' ', ' ', ' ', ' ', ' ', ' '] \n",
            "\n",
            "matches non-char:- \n",
            " [' ', ' ', ' ', ',', ' ', '-', ' ', ' ', '-', ' ', ' ', '.', ' ', ' ', ' ', ' ', ' ', ' ', ' ', ' ', ' ', ' '] \n",
            "\n"
          ],
          "name": "stdout"
        }
      ]
    },
    {
      "cell_type": "markdown",
      "metadata": {
        "id": "SVUD1tLstjQQ",
        "colab_type": "text"
      },
      "source": [
        "# Quantifier Demo"
      ]
    },
    {
      "cell_type": "code",
      "metadata": {
        "id": "FFalfNvskfux",
        "colab_type": "code",
        "colab": {
          "base_uri": "https://localhost:8080/",
          "height": 156
        },
        "outputId": "8bfe1741-267f-4617-defa-8d61ec5657a1"
      },
      "source": [
        "# Using \\w with quantifiers\n",
        "# bellow code returns the year 1991 \n",
        "most_4_word = re.findall(r\"\\d{,4}\",text)\n",
        "print(f\"Matches a digit:- \\n {most_4_word} \\n\")\n",
        "\n",
        "# Using + quantifier\n",
        "using_plus = re.findall(r\"[\\w]+\",text)\n",
        "print(f\"Matches the words in text:- \\n {using_plus} \\n\") \n"
      ],
      "execution_count": 4,
      "outputs": [
        {
          "output_type": "stream",
          "text": [
            "Matches a digit:- \n",
            " ['', '', '', '', '', '', '', '', '', '', '', '', '', '', '', '', '', '', '', '', '', '', '', '', '', '', '', '', '', '', '', '', '', '', '', '', '', '', '', '', '', '', '', '', '', '', '', '', '', '', '', '', '', '', '', '', '', '', '', '', '', '', '', '', '', '', '', '', '', '', '', '', '', '', '', '', '', '', '', '', '', '', '', '', '', '', '', '', '', '', '', '', '', '', '', '', '', '', '', '', '', '', '', '', '', '', '', '', '', '', '', '', '', '', '', '', '', '', '', '', '', '', '', '', '', '', '', '', '', '1991', ''] \n",
            "\n",
            "Matches the words in text:- \n",
            " ['Python', 'is', 'an', 'interpreted', 'high', 'level', 'and', 'general', 'purpose', 'programming', 'language', 'Created', 'by', 'Guido', 'van', 'Rossum', 'and', 'first', 'released', 'in', '1991'] \n",
            "\n"
          ],
          "name": "stdout"
        },
        {
          "output_type": "execute_result",
          "data": {
            "text/plain": [
              "['', '', '', '', '', '', '', '', '']"
            ]
          },
          "metadata": {
            "tags": []
          },
          "execution_count": 4
        }
      ]
    },
    {
      "cell_type": "markdown",
      "metadata": {
        "id": "QIuHG_0HyMXk",
        "colab_type": "text"
      },
      "source": [
        "# Finding URLS and Hashtags in text"
      ]
    },
    {
      "cell_type": "code",
      "metadata": {
        "id": "JiN4iVKvptZN",
        "colab_type": "code",
        "colab": {}
      },
      "source": [
        "test = \"https://www.demo.com  is a demo website . https://github.com is githubs url\""
      ],
      "execution_count": 5,
      "outputs": []
    },
    {
      "cell_type": "code",
      "metadata": {
        "id": "AVgu-ienuoBx",
        "colab_type": "code",
        "colab": {
          "base_uri": "https://localhost:8080/",
          "height": 34
        },
        "outputId": "eb650a3c-0353-4c4c-b4bc-55bed2bdbdb5"
      },
      "source": [
        "re.findall(r\"http[s]?://(?:[w]{3})?(?:[a-zA-Z]|[0-9]|[$-_@.&+]|[!*\\(\\),]|(?:%[0-9a-fA-F][0-9a-fA-F]))+\",test)\n",
        "# Here ?: inside () means non-capturing groups"
      ],
      "execution_count": 6,
      "outputs": [
        {
          "output_type": "execute_result",
          "data": {
            "text/plain": [
              "['https://www.demo.com', 'https://github.com']"
            ]
          },
          "metadata": {
            "tags": []
          },
          "execution_count": 6
        }
      ]
    },
    {
      "cell_type": "code",
      "metadata": {
        "id": "6l8aqNmpvn9I",
        "colab_type": "code",
        "colab": {}
      },
      "source": [
        "twitter = \"hello world #Demo #RegEx \""
      ],
      "execution_count": 7,
      "outputs": []
    },
    {
      "cell_type": "code",
      "metadata": {
        "id": "spm2DFB5xWZ_",
        "colab_type": "code",
        "colab": {
          "base_uri": "https://localhost:8080/",
          "height": 34
        },
        "outputId": "2678d224-24c4-4af0-e3c9-505bd15de05a"
      },
      "source": [
        "re.findall(r\"#[\\w]+\",twitter)"
      ],
      "execution_count": 8,
      "outputs": [
        {
          "output_type": "execute_result",
          "data": {
            "text/plain": [
              "['#Demo', '#RegEx']"
            ]
          },
          "metadata": {
            "tags": []
          },
          "execution_count": 8
        }
      ]
    },
    {
      "cell_type": "code",
      "metadata": {
        "id": "ZrIuAO-Xxngf",
        "colab_type": "code",
        "colab": {
          "base_uri": "https://localhost:8080/",
          "height": 35
        },
        "outputId": "0356afe5-dc24-4e9d-8043-d286a9cd1d53"
      },
      "source": [
        "# Substitute the link with URL\n",
        "re.sub(r\"http[s]?://(?:[w]{3})?(?:[a-zA-Z]|[0-9]|[$-_@.&+]|[!*\\(\\),]|(?:%[0-9a-fA-F][0-9a-fA-F]))+\",\"<URL>\",test)"
      ],
      "execution_count": 9,
      "outputs": [
        {
          "output_type": "execute_result",
          "data": {
            "application/vnd.google.colaboratory.intrinsic+json": {
              "type": "string"
            },
            "text/plain": [
              "'<URL>  is a demo website . <URL> is githubs url'"
            ]
          },
          "metadata": {
            "tags": []
          },
          "execution_count": 9
        }
      ]
    },
    {
      "cell_type": "code",
      "metadata": {
        "id": "jQ8Psxz0yd-r",
        "colab_type": "code",
        "colab": {
          "base_uri": "https://localhost:8080/",
          "height": 35
        },
        "outputId": "d1751f78-a0dd-4d6d-c999-29e3ef8401d0"
      },
      "source": [
        "# Substitute the hashtags with String Hashtag\n",
        "re.sub(r\"#[\\w]+\",\"<Hashtag>\",twitter)"
      ],
      "execution_count": 10,
      "outputs": [
        {
          "output_type": "execute_result",
          "data": {
            "application/vnd.google.colaboratory.intrinsic+json": {
              "type": "string"
            },
            "text/plain": [
              "'hello world <Hashtag> <Hashtag> '"
            ]
          },
          "metadata": {
            "tags": []
          },
          "execution_count": 10
        }
      ]
    },
    {
      "cell_type": "markdown",
      "metadata": {
        "id": "y9ecc9bqh2lM",
        "colab_type": "text"
      },
      "source": [
        "# Extracting the domain name of the email and the name of user from text"
      ]
    },
    {
      "cell_type": "code",
      "metadata": {
        "id": "ZOI7sDhlfc20",
        "colab_type": "code",
        "colab": {}
      },
      "source": [
        "test1 = '''harish abc@gmail.com \n",
        "           derick cab@yahoo.com'''"
      ],
      "execution_count": 11,
      "outputs": []
    },
    {
      "cell_type": "code",
      "metadata": {
        "id": "k5ZKyKMDf0aq",
        "colab_type": "code",
        "colab": {}
      },
      "source": [
        "patrn = r'([\\w]+)\\s(?:\\w+)@([A-Z0-9]+)\\.(?:[A-Z]{2,4})'"
      ],
      "execution_count": 12,
      "outputs": []
    },
    {
      "cell_type": "code",
      "metadata": {
        "id": "g8pN4nxwgay_",
        "colab_type": "code",
        "colab": {
          "base_uri": "https://localhost:8080/",
          "height": 34
        },
        "outputId": "9d10a5ed-0ab2-42b6-bf7e-3d6e446eab7f"
      },
      "source": [
        "re.findall(patrn,test1,re.IGNORECASE)"
      ],
      "execution_count": 13,
      "outputs": [
        {
          "output_type": "execute_result",
          "data": {
            "text/plain": [
              "[('harish', 'gmail'), ('derick', 'yahoo')]"
            ]
          },
          "metadata": {
            "tags": []
          },
          "execution_count": 13
        }
      ]
    },
    {
      "cell_type": "markdown",
      "metadata": {
        "id": "fA0VQxvSkX8I",
        "colab_type": "text"
      },
      "source": [
        "# Clean the sentence and remove all unwanted spaces, commas, semi-colon and colon"
      ]
    },
    {
      "cell_type": "code",
      "metadata": {
        "id": "Xe6iOaVygewb",
        "colab_type": "code",
        "colab": {}
      },
      "source": [
        "sentence = \"\"\"Split , this sentence   ; into  : words\"\"\""
      ],
      "execution_count": 14,
      "outputs": []
    },
    {
      "cell_type": "code",
      "metadata": {
        "id": "xQK3Xv5Jih6j",
        "colab_type": "code",
        "colab": {}
      },
      "source": [
        "# compile is used to store the pattern that are used frequently \n",
        "pattern = re.compile(r'[,;:\\s]+')"
      ],
      "execution_count": 15,
      "outputs": []
    },
    {
      "cell_type": "code",
      "metadata": {
        "id": "yPRxYGzji_se",
        "colab_type": "code",
        "colab": {
          "base_uri": "https://localhost:8080/",
          "height": 35
        },
        "outputId": "3996276d-2225-4935-afa4-741d056987e8"
      },
      "source": [
        "\"\".join(pattern.sub(' ',sentence))"
      ],
      "execution_count": 16,
      "outputs": [
        {
          "output_type": "execute_result",
          "data": {
            "application/vnd.google.colaboratory.intrinsic+json": {
              "type": "string"
            },
            "text/plain": [
              "'Split this sentence into words'"
            ]
          },
          "metadata": {
            "tags": []
          },
          "execution_count": 16
        }
      ]
    },
    {
      "cell_type": "markdown",
      "metadata": {
        "id": "sucdLrhmkoSw",
        "colab_type": "text"
      },
      "source": [
        "# Clean the tweet by removing user handle, urls, hashtags and other punctiations "
      ]
    },
    {
      "cell_type": "code",
      "metadata": {
        "id": "dIJzbfrfjd87",
        "colab_type": "code",
        "colab": {}
      },
      "source": [
        "tweet = '''Good advice! RT @TheNextWeb: What I would do differently if I was learning to code today http://t.co/lbwej0pxOd cc: @garybernhardt #rstats'''"
      ],
      "execution_count": 17,
      "outputs": []
    },
    {
      "cell_type": "code",
      "metadata": {
        "id": "OAkQL4IWkVPI",
        "colab_type": "code",
        "colab": {}
      },
      "source": [
        "def tweet_cleaner(text):\n",
        "  text = re.sub(r'http[s]?://(?:[w]{3})?(?:[a-zA-Z]|[0-9]|[$-_@.&+]|[!*\\(\\),]|(?:%[0-9a-fA-F][0-9a-fA-F]))+','',text)\n",
        "  text = re.sub(r\"#\\S+\",'',text)\n",
        "  text = re.sub(r'RT | cc:','',text)\n",
        "  text = re.sub(r'@\\S+','',text)\n",
        "  text = re.sub('\\s+', ' ', text)\n",
        "  return text"
      ],
      "execution_count": 31,
      "outputs": []
    },
    {
      "cell_type": "code",
      "metadata": {
        "id": "s03r6FlenG_z",
        "colab_type": "code",
        "colab": {
          "base_uri": "https://localhost:8080/",
          "height": 35
        },
        "outputId": "66136542-3960-4359-869f-9012eb412eb8"
      },
      "source": [
        "tweet_cleaner(tweet)"
      ],
      "execution_count": 32,
      "outputs": [
        {
          "output_type": "execute_result",
          "data": {
            "application/vnd.google.colaboratory.intrinsic+json": {
              "type": "string"
            },
            "text/plain": [
              "'Good advice! What I would do differently if I was learning to code today '"
            ]
          },
          "metadata": {
            "tags": []
          },
          "execution_count": 32
        }
      ]
    },
    {
      "cell_type": "markdown",
      "metadata": {
        "id": "m0haufob29Hy",
        "colab_type": "text"
      },
      "source": [
        "# Find adverb from text and extract them using regex"
      ]
    },
    {
      "cell_type": "code",
      "metadata": {
        "id": "sl0oqG4QnKgY",
        "colab_type": "code",
        "colab": {}
      },
      "source": [
        "text_adv = \"Good advice! What I would do differently if I was learning to code today\""
      ],
      "execution_count": 33,
      "outputs": []
    },
    {
      "cell_type": "code",
      "metadata": {
        "id": "kjxBl6ew3PcP",
        "colab_type": "code",
        "colab": {
          "base_uri": "https://localhost:8080/",
          "height": 34
        },
        "outputId": "d397d3eb-d7d8-4f32-a1ac-41c4b71f46d1"
      },
      "source": [
        "re.findall(r'\\w+ly',text_adv)"
      ],
      "execution_count": 34,
      "outputs": [
        {
          "output_type": "execute_result",
          "data": {
            "text/plain": [
              "['differently']"
            ]
          },
          "metadata": {
            "tags": []
          },
          "execution_count": 34
        }
      ]
    },
    {
      "cell_type": "code",
      "metadata": {
        "id": "gm_BLC9N3WX5",
        "colab_type": "code",
        "colab": {}
      },
      "source": [
        ""
      ],
      "execution_count": null,
      "outputs": []
    }
  ]
}